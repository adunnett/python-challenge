{
 "cells": [
  {
   "cell_type": "code",
   "execution_count": 115,
   "metadata": {},
   "outputs": [
    {
     "ename": "TypeError",
     "evalue": "'int' object is not iterable",
     "output_type": "error",
     "traceback": [
      "\u001b[1;31m---------------------------------------------------------------------------\u001b[0m",
      "\u001b[1;31mTypeError\u001b[0m                                 Traceback (most recent call last)",
      "\u001b[1;32m<ipython-input-115-5935309b25a4>\u001b[0m in \u001b[0;36m<module>\u001b[1;34m\u001b[0m\n\u001b[0;32m     28\u001b[0m         \u001b[1;32mif\u001b[0m \u001b[0mtotal_months\u001b[0m \u001b[1;33m>\u001b[0m \u001b[1;36m1\u001b[0m\u001b[1;33m:\u001b[0m\u001b[1;33m\u001b[0m\u001b[1;33m\u001b[0m\u001b[0m\n\u001b[0;32m     29\u001b[0m             \u001b[0mprofit_change\u001b[0m \u001b[1;33m=\u001b[0m \u001b[0mint\u001b[0m\u001b[1;33m(\u001b[0m\u001b[0mrow\u001b[0m\u001b[1;33m[\u001b[0m\u001b[1;36m1\u001b[0m\u001b[1;33m]\u001b[0m\u001b[1;33m)\u001b[0m \u001b[1;33m-\u001b[0m \u001b[0mprevious_profit\u001b[0m\u001b[1;33m\u001b[0m\u001b[1;33m\u001b[0m\u001b[0m\n\u001b[1;32m---> 30\u001b[1;33m         \u001b[0mlist_pc\u001b[0m \u001b[1;33m+=\u001b[0m \u001b[0mprofit_change\u001b[0m\u001b[1;33m\u001b[0m\u001b[1;33m\u001b[0m\u001b[0m\n\u001b[0m\u001b[0;32m     31\u001b[0m         \u001b[0mprevious_profit\u001b[0m \u001b[1;33m=\u001b[0m \u001b[0mint\u001b[0m\u001b[1;33m(\u001b[0m\u001b[0mrow\u001b[0m\u001b[1;33m[\u001b[0m\u001b[1;36m1\u001b[0m\u001b[1;33m]\u001b[0m\u001b[1;33m)\u001b[0m\u001b[1;33m\u001b[0m\u001b[1;33m\u001b[0m\u001b[0m\n\u001b[0;32m     32\u001b[0m \u001b[1;33m\u001b[0m\u001b[0m\n",
      "\u001b[1;31mTypeError\u001b[0m: 'int' object is not iterable"
     ]
    }
   ],
   "source": [
    "# import modules\n",
    "import csv\n",
    "\n",
    "# Set the variables\n",
    "total_months = 0\n",
    "total_profit = 0\n",
    "previous_profit = 0\n",
    "profit_change = 0\n",
    "change_month = []\n",
    "greatest_increase = [\"\", 0]\n",
    "greatest_decrease = [\"\", 1000000]\n",
    "profit_avg = 0\n",
    "list_pc = []\n",
    "\n",
    "# Open csv file\n",
    "with open(\"PyBank.csv\") as csvfile:\n",
    "    csvreader = csv.reader(csvfile, delimiter=',')\n",
    "    csvHeader = next(csvreader)\n",
    "    \n",
    "    for row in csvreader:\n",
    "# The total number of months included in the dataset            \n",
    "        total_months += 1\n",
    "    \n",
    "#The net total amount of \"Profit/Losses\" over the entire period    \n",
    "        total_profit += int(row[1])\n",
    "\n",
    "    def add_list(list_pc):\n",
    "    sum = 0\n",
    "    # Iterate over the input_list to sum elements\n",
    "    for item in list_pc:\n",
    "        sum = sum + item\n",
    "    # return results\n",
    "    return sum\n",
    "# The average of the changes in \"Profit/Losses\" over the entire period\n",
    "        if total_months > 1:\n",
    "            profit_change = int(row[1]) - previous_profit\n",
    "        list_pc += profit_change\n",
    "        previous_profit = int(row[1])\n",
    "\n",
    "# The greatest increase in profits (date and amount) over the entire period    \n",
    "        if profit_change>greatest_increase[1]:\n",
    "            greatest_increase[1]= profit_change\n",
    "            greatest_increase[0] = row[0]\n",
    "\n",
    "print(f\"Total Months: {total_months}\")\n",
    "print(f\"Total Profit: ${total_profit}\")\n",
    "print(f\"Total Average Change: {profit_change}\")\n"
   ]
  },
  {
   "cell_type": "code",
   "execution_count": null,
   "metadata": {},
   "outputs": [],
   "source": [
    "#The greatest decrease in profits (date and amount) over the entire period\n",
    "        if profit_change<greatest_decrease[1]:\n",
    "            greatest_decrease[1]= profit_change\n",
    "            greatest_decrease[0] = row[0]\n",
    "            profit_avg = sum(list_pc)/len(list_pc)\n",
    "            \n",
    "print(f\"Greatest Increase: {greatest_increase}\")\n",
    "print(f\"Greatest Decreases: {greatest_decrease}\")"
   ]
  }
 ],
 "metadata": {
  "kernelspec": {
   "display_name": "Python 3",
   "language": "python",
   "name": "python3"
  },
  "language_info": {
   "codemirror_mode": {
    "name": "ipython",
    "version": 3
   },
   "file_extension": ".py",
   "mimetype": "text/x-python",
   "name": "python",
   "nbconvert_exporter": "python",
   "pygments_lexer": "ipython3",
   "version": "3.8.3"
  }
 },
 "nbformat": 4,
 "nbformat_minor": 4
}
