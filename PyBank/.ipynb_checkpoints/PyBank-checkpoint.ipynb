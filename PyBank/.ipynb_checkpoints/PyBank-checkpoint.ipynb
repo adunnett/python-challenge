{
 "cells": [
  {
   "cell_type": "code",
   "execution_count": 59,
   "metadata": {},
   "outputs": [
    {
     "name": "stdout",
     "output_type": "stream",
     "text": [
      "Financial Analysis\n",
      "---------------------------\n",
      "Total Months: 86\n",
      "Total Profit: $38382578\n",
      "Total Average Change: $6196.1511627906975\n",
      "Greatest Increase: ['Feb-2012', 1926159.0]\n",
      "Greatest Decreases: ['Sep-2013', -2196167.0]\n"
     ]
    }
   ],
   "source": [
    "# import modules\n",
    "import csv\n",
    "import os\n",
    "\n",
    "filepath = os.path.join (\"Resources\", \"PyBank.csv\")\n",
    "\n",
    "# Set the variables\n",
    "total_months = 0\n",
    "total_profit = 0\n",
    "profit = []\n",
    "previous_profit = 0\n",
    "profit_change = 0\n",
    "change_month = []\n",
    "greatest_increase = [\"\", 0]\n",
    "greatest_decrease = [\"\", 1000000]\n",
    "profit_avg = 0\n",
    "list_pc = []\n",
    "results = []\n",
    "\n",
    "# Open csv file\n",
    "with open(filepath) as csvfile:\n",
    "    csvreader = csv.reader(csvfile, delimiter=',')\n",
    "    csvHeader = next(csvreader)\n",
    "    \n",
    "    for row in csvreader:\n",
    "# The total number of months included in the dataset            \n",
    "        total_months += 1\n",
    "    \n",
    "#The net total amount of \"Profit/Losses\" over the entire period    \n",
    "        total_profit += int(row[1])\n",
    "\n",
    "# The average of the changes in \"Profit/Losses\" over the entire period\n",
    "        if total_months > 0:\n",
    "            profit_change = float(row[1]) - previous_profit\n",
    "            previous_profit = float(row[1])\n",
    "            month_of_change = [profit_change] + [row[0]]\n",
    "            \n",
    "\n",
    "# The greatest increase in profits (date and amount) over the entire period    \n",
    "        if profit_change > greatest_increase[1]:\n",
    "            greatest_increase[1]= profit_change\n",
    "            greatest_increase[0] = row[0]\n",
    "\n",
    "#The greatest decrease in profits (date and amount) over the entire period\n",
    "        if profit_change < greatest_decrease[1]:\n",
    "            greatest_decrease[1]= profit_change\n",
    "            greatest_decrease[0] = row[0]\n",
    "\n",
    "profit_avg = profit_change / total_months\n",
    " \n",
    "\n",
    "print(\"Financial Analysis\")\n",
    "print(\"---------------------------\")\n",
    "print(f\"Total Months: {total_months}\")\n",
    "print(f\"Total Profit: ${total_profit}\")\n",
    "print(f\"Total Average Change: ${profit_avg}\")\n",
    "print(f\"Greatest Increase: {greatest_increase}\")\n",
    "print(f\"Greatest Decreases: {greatest_decrease}\")\n",
    "\n",
    "filename = 'main.py'\n",
    "with open(filename, 'w') as file:\n",
    "    for result in results:\n",
    "        print(result)\n",
    "        file.write(result + '\\n')"
   ]
  },
  {
   "cell_type": "code",
   "execution_count": null,
   "metadata": {},
   "outputs": [],
   "source": []
  }
 ],
 "metadata": {
  "kernelspec": {
   "display_name": "Python 3",
   "language": "python",
   "name": "python3"
  },
  "language_info": {
   "codemirror_mode": {
    "name": "ipython",
    "version": 3
   },
   "file_extension": ".py",
   "mimetype": "text/x-python",
   "name": "python",
   "nbconvert_exporter": "python",
   "pygments_lexer": "ipython3",
   "version": "3.8.3"
  }
 },
 "nbformat": 4,
 "nbformat_minor": 4
}
