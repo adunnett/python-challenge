{
 "cells": [
  {
   "cell_type": "code",
   "execution_count": 1,
   "metadata": {},
   "outputs": [
    {
     "name": "stdout",
     "output_type": "stream",
     "text": [
      "Khan: 63.0 % (2218231)\n",
      "Correy: 20.0 % (704200)\n",
      "Li: 14.0 % (492940)\n",
      "O'Tooley: 3.0 % (105630)\n",
      "--------------------\n",
      "Winner: Khan\n",
      "--------------------\n"
     ]
    }
   ],
   "source": [
    "import csv\n",
    "import os\n",
    "\n",
    "filepath = os.path.join(\"Resources\", \"election_data.csv\")\n",
    "\n",
    "total_votes = 0\n",
    "candidates = []\n",
    "vote_list = []\n",
    "results = []\n",
    "\n",
    "with open(filepath) as csvfile:\n",
    "    csvreader = csv.reader(csvfile, delimiter=',')\n",
    "    csvHeader = next(csvreader)\n",
    "    \n",
    "    for row in csvreader:\n",
    "        total_votes += 1\n",
    "\n",
    "        if row[2] not in candidates:\n",
    "            candidates.append(row[2])\n",
    "            vote_list.append(1)\n",
    "        else:\n",
    "            vote_list[candidates.index(row[2])] += 1\n",
    "\n",
    "winner = candidates[0]\n",
    "maxvotes = vote_list[0]\n",
    "for i in range(len(candidates)):\n",
    "    if vote_list[i] > maxvotes:\n",
    "        winner = candidates[i]\n",
    "        maxvotes = vote_list[i]\n",
    "    percent = 100 * vote_list[i] / total_votes\n",
    "    results.append(f\"{candidates[i]}: {round(percent,3)} % ({vote_list[i]})\")\n",
    "\n",
    "results.append(f\"--------------------\\nWinner: {winner}\\n--------------------\")\n",
    "\n",
    "filename = 'main.py'\n",
    "with open(filename, 'w') as file:\n",
    "    for result in results:\n",
    "        print(result)\n",
    "        file.write(result + '\\n')"
   ]
  },
  {
   "cell_type": "code",
   "execution_count": null,
   "metadata": {},
   "outputs": [],
   "source": []
  }
 ],
 "metadata": {
  "kernelspec": {
   "display_name": "Python 3",
   "language": "python",
   "name": "python3"
  },
  "language_info": {
   "codemirror_mode": {
    "name": "ipython",
    "version": 3
   },
   "file_extension": ".py",
   "mimetype": "text/x-python",
   "name": "python",
   "nbconvert_exporter": "python",
   "pygments_lexer": "ipython3",
   "version": "3.8.3"
  }
 },
 "nbformat": 4,
 "nbformat_minor": 4
}
